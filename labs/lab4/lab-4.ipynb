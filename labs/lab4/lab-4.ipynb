{
 "cells": [
  {
   "cell_type": "markdown",
   "metadata": {},
   "source": [
    "# Learning and Decision Making"
   ]
  },
  {
   "cell_type": "markdown",
   "metadata": {},
   "source": [
    "## Laboratory 4: Supervised learning\n",
    "\n",
    "In the end of the lab, you should export the notebook to a Python script (File >> Download as >> Python (.py)). Your file should be named `padi-lab4-groupXX.py`, where the `XX` corresponds to your group number and should be submitted to the e-mail <adi.tecnico@gmail.com>. \n",
    "\n",
    "Make sure...\n",
    "\n",
    "* **... that the subject is of the form `[<group n.>] LAB <lab n.>`.** \n",
    "\n",
    "* **... to strictly respect the specifications in each activity, in terms of the intended inputs, outputs and naming conventions.** \n",
    "\n",
    "In particular, after completing the activities you should be able to replicate the examples provided (although this, in itself, is no guarantee that the activities are correctly completed)."
   ]
  },
  {
   "cell_type": "markdown",
   "metadata": {},
   "source": [
    "### 1. The IRIS dataset\n",
    "\n",
    "The Iris flower data set is a data set describing the morphologic variation of Iris flowers of three related species. Two of the three species were collected in the Gaspé Peninsula \"all from the same pasture, and picked on the same day and measured at the same time by the same person with the same apparatus\".\n",
    "\n",
    "The data set consists of 50 samples from each of three species of Iris (Iris setosa_, _Iris virginica and _Iris versicolor_). Four features were measured from each sample: the length and the width of the sepals and petals, in centimetres.\n",
    "\n",
    "In your work, you will use the Iris dataset, considering only two of the three species of Iris.\n",
    "\n",
    "---\n",
    "\n",
    "We start by loading the dataset. The Iris dataset is available directly as part of `scikit-learn`and we use the `scikit-learn` command `load_iris` to retrieve the data. For example, you can run the code\n",
    "\n",
    "```python\n",
    "import numpy as np\n",
    "import matplotlib.pyplot as plt\n",
    "\n",
    "from sklearn import datasets as data\n",
    "\n",
    "# Load dataset\n",
    "iris = data.load_iris()\n",
    "\n",
    "data_X = iris.data[50:,:]          # Select only 2 classes\n",
    "data_A = 2 * iris.target[50:] - 3  # Set output to {-1, +1}\n",
    "\n",
    "# Get dimensions \n",
    "nE = data_X.shape[0]\n",
    "nF = data_X.shape[1]\n",
    "\n",
    "print('Number of examples:', nE)\n",
    "print('Number of features per example:', nE)\n",
    "```\n",
    "\n",
    "to get the output\n",
    "\n",
    "```\n",
    "Number of examples: 100\n",
    "Number of features per example: 4\n",
    "```\n",
    "\n",
    "In the code above, the dataset contains a total of `nE` examples (100); each example is described by `nF` features (4). The input data is stored in the numpy array `data_X`, while the output data is stored in `data_A`. "
   ]
  },
  {
   "cell_type": "code",
   "execution_count": 1,
   "metadata": {
    "pycharm": {
     "name": "#%%\n"
    }
   },
   "outputs": [
    {
     "name": "stdout",
     "output_type": "stream",
     "text": [
      "Number of examples: 100\n",
      "Number of features per example: 100\n"
     ]
    }
   ],
   "source": [
    "import numpy as np\n",
    "import matplotlib.pyplot as plt\n",
    "\n",
    "from sklearn import datasets as data\n",
    "\n",
    "# Load dataset\n",
    "iris = data.load_iris()\n",
    "\n",
    "data_X = iris.data[50:,:]          # Select only 2 classes\n",
    "data_A = 2 * iris.target[50:] - 3  # Set output to {-1, +1}\n",
    "\n",
    "# Get dimensions \n",
    "nE = data_X.shape[0]\n",
    "nF = data_X.shape[1]\n",
    "\n",
    "print('Number of examples:', nE)\n",
    "print('Number of features per example:', nE)"
   ]
  },
  {
   "cell_type": "markdown",
   "metadata": {
    "pycharm": {
     "name": "#%% md\n"
    }
   },
   "source": [
    "---\n",
    "\n",
    "#### Activity 1.        \n",
    "\n",
    "Write a function named `preprocess` that takes as input two numpy arrays, `input_data` and `output_data`, with shapes, respectively, `(nE, nF)` and `(nE,)`. Your function should:\n",
    "\n",
    "* Split the data into a \"train set\" and a \"test set\". The test set should correspond to 10% of the whole data. To this purpose, you can use the function `train_test_split` from the module `model_selection` of `scikit-learn`. For reproducibility, set `random_state` to some fixed value (e.g., 30).\n",
    "* Standardize the training data to have 0-mean and unitary standard deviation. You may find useful the `StandardScaler` from `sklearn.preprocessing`. You should also standardize the test data, but using the scaler fit to the training data.\n",
    "\n",
    "The function should return, as output, a tuple of 5 elements, where\n",
    "\n",
    "* The first element is a numpy array containing the (standardized) input data for the training set;\n",
    "* The second element is a numpy array containing the output data for the training set;\n",
    "* The third element is a numpy array containing the (standardizes) input data for the test set;\n",
    "* The fourth element is a numpy array containing the output data for the test set;\n",
    "* The fifth element is the scaler model.\n",
    "\n",
    "Note that your function should work for *any* binary classification dataset, where `output_data` contains only the labels `-1` and `1`.\n",
    "\n",
    "**Note**: Don't forget to import `numpy`.\n",
    "\n",
    "---"
   ]
  },
  {
   "cell_type": "code",
   "execution_count": 17,
   "metadata": {
    "ExecuteTime": {
     "end_time": "2020-11-07T14:44:06.772868Z",
     "start_time": "2020-11-07T14:44:06.771060Z"
    },
    "scrolled": false,
    "pycharm": {
     "name": "#%%\n"
    }
   },
   "outputs": [],
   "source": [
    "# Add your code here.\n",
    "from sklearn.model_selection import train_test_split\n",
    "from sklearn.preprocessing import  StandardScaler \n",
    "\n",
    "def preprocess (input_data, output_data):\n",
    "\n",
    "    X_train, X_test, y_train, y_test = train_test_split(data_X, data_A, test_size = 0.1, random_state = 42)\n",
    "\n",
    "    scaler = StandardScaler().fit(X_train)\n",
    "    X_train = scaler.transform(X_train)\n",
    "    X_test = scaler.transform(X_test)\n",
    "\n",
    "    return  X_train, y_train, X_test, y_test, scaler"
   ]
  },
  {
   "cell_type": "markdown",
   "metadata": {},
   "source": [
    "As an example, you can execute the code\n",
    "\n",
    "```Python\n",
    "# Load dataset\n",
    "iris = data.load_iris()\n",
    "\n",
    "features = 'Sepal length\\n(normalized)', 'Sepal width\\n(normalized)', 'Petal length\\n(normalized)', 'Petal width\\n(normalized)'\n",
    "\n",
    "data_X = iris.data[50:,:]\n",
    "data_A = 2 * iris.target[50:] - 3\n",
    "\n",
    "train_x, train_a, test_x, test_a, _ = preprocess(data_X, data_A)\n",
    "\n",
    "# Plot data\n",
    "fig, axes = plt.subplots(nrows=4, ncols=4, figsize=(8,8))\n",
    "fig.subplots_adjust(hspace=0.05, wspace=0.05)\n",
    "\n",
    "idx1 = np.where(train_a == -1)[0]\n",
    "idx2 = np.where(train_a == 1)[0]\n",
    "\n",
    "for ax in axes.flat:\n",
    "    ax.xaxis.set_visible(False)\n",
    "    ax.yaxis.set_visible(False)\n",
    "\n",
    "# Plot the data\n",
    "for i, j in zip(*np.triu_indices_from(axes, k=1)):\n",
    "    for x, y in [(i,j), (j,i)]:\n",
    "        axes[x,y].plot(train_x[idx1, x], train_x[idx1, y], 'bx', label='Versicolor')\n",
    "        axes[x,y].plot(train_x[idx2, x], train_x[idx2, y], 'ro', label='Virginica')\n",
    "\n",
    "# Label the diagonal subplots\n",
    "for i in range(4):\n",
    "    axes[i, i].annotate(features[i], (0.5, 0.5), xycoords='axes fraction', ha='center', va='center')\n",
    "\n",
    "plt.tight_layout()\n",
    "```\n",
    "\n",
    "To get as output the plot:\n",
    "\n",
    "<img src=\"feature-matrix.png\" align=\"left\">"
   ]
  },
  {
   "cell_type": "code",
   "execution_count": 18,
   "metadata": {
    "pycharm": {
     "name": "#%%\n"
    }
   },
   "outputs": [
    {
     "data": {
      "image/png": "[encoded data removed]",
      "text/plain": [
       "<Figure size 576x576 with 16 Axes>"
      ]
     },
     "metadata": {
      "needs_background": "light"
     },
     "output_type": "display_data"
    }
   ],
   "source": [
    "# Load dataset\n",
    "iris = data.load_iris()\n",
    "\n",
    "features = 'Sepal length\\n(normalized)', 'Sepal width\\n(normalized)', 'Petal length\\n(normalized)', 'Petal width\\n(normalized)'\n",
    "\n",
    "data_X = iris.data[50:,:]\n",
    "data_A = 2 * iris.target[50:] - 3\n",
    "\n",
    "train_x, train_a, test_x, test_a, _ = preprocess(data_X, data_A)\n",
    "\n",
    "# Plot data\n",
    "fig, axes = plt.subplots(nrows=4, ncols=4, figsize=(8,8))\n",
    "fig.subplots_adjust(hspace=0.05, wspace=0.05)\n",
    "\n",
    "idx1 = np.where(train_a == -1)[0]\n",
    "idx2 = np.where(train_a == 1)[0]\n",
    "\n",
    "for ax in axes.flat:\n",
    "    ax.xaxis.set_visible(False)\n",
    "    ax.yaxis.set_visible(False)\n",
    "\n",
    "# Plot the data\n",
    "for i, j in zip(*np.triu_indices_from(axes, k=1)):\n",
    "    for x, y in [(i,j), (j,i)]:\n",
    "        axes[x,y].plot(train_x[idx1, x], train_x[idx1, y], 'bx', label='Versicolor')\n",
    "        axes[x,y].plot(train_x[idx2, x], train_x[idx2, y], 'ro', label='Virginica')\n",
    "\n",
    "# Label the diagonal subplots\n",
    "for i in range(4):\n",
    "    axes[i, i].annotate(features[i], (0.5, 0.5), xycoords='axes fraction', ha='center', va='center')\n",
    "\n",
    "plt.tight_layout()"
   ]
  },
  {
   "cell_type": "markdown",
   "metadata": {
    "pycharm": {
     "name": "#%% md\n"
    }
   },
   "source": [
    "In the example above, the samples are represented by four features that have been normalized to have zero mean and unit standard deviation. However, as can be seen in the plots above, the training examples do not cover the full feature space. In fact, the plots suggest a strong correlation between some of the features, meaning that there may be some redundance in the four features, and a more compact representation may be possible. \n",
    "\n",
    "As such, in the next activity, you will perform an additional pre-processing step to reduce the dimensionality of the data from four to two dimensions, while maintaining most of the information. Specifically, you will transform your data so that each sample is now represented by two artificial features that capture most of the variability in the data, using a technique called [_principal component analysis_]( https://en.wikipedia.org/wiki/Principal_component_analysis)."
   ]
  },
  {
   "cell_type": "markdown",
   "metadata": {
    "raw_mimetype": "text/latex"
   },
   "source": [
    "---\n",
    "\n",
    "#### Activity 2.\n",
    "\n",
    "Write a function called `get_components` that receives, as input, standardized input data and performs principal component analysis on this data. Your function takes as input two numpy arrays, `train_x` and `test_x`, corresponding to the standardized training and test data obtained from the application of the function `preprocess` from **Activity 1** to a binary classification dataset, and an integer `n_comp`. Your function should\n",
    "\n",
    "* Apply PCA to the training data (in `train_x`) to obtain a representation of the data with only `n_comp` features. You may find useful the function `PCA` from `sklearn.decomposition`. You should also apply PCA decomposition to the test data (in `test_x`), but using the analyzer fit to the training data.\n",
    "\n",
    "The function should return, as output, a tuple of 3 elements, where\n",
    "\n",
    "* The first element is a numpy array containing the transformed training set;\n",
    "* The second element is a numpy array containing the transformed test set;\n",
    "* The third element is the analyzer model.\n",
    "\n",
    "Note that your function should work for *any* binary classification dataset.  \n",
    "\n",
    "---"
   ]
  },
  {
   "cell_type": "code",
   "execution_count": null,
   "outputs": [],
   "source": [
    "# Add your code here.\n",
    "from sklearn.decomposition import PCA\n",
    "\n",
    "def get_components(X_train, X_test, n_pc):\n",
    "\n",
    "    pca = PCA(n_components=n_pc).fit(X_train)\n",
    "    pca_train_x = pca.transform(X_train)\n",
    "    pca_test_x = pca.transform(X_test)\n",
    "    return pca_train_x, pca_test_x, pca"
   ],
   "metadata": {
    "collapsed": false,
    "pycharm": {
     "name": "#%%\n"
    }
   }
  },
  {
   "cell_type": "markdown",
   "source": [
    "As an example, you can run the following code on the data from the previous example.\n",
    "\n",
    "```python\n",
    "pca_train_x, pca_test_x, pca = get_components(train_x, test_x, 2)\n",
    "\n",
    "# Plot data\n",
    "plt.figure()\n",
    "\n",
    "plt.plot(pca_train_x[idx1, 0], pca_train_x[idx1, 1], 'bx', label='Versicolor')\n",
    "plt.plot(pca_train_x[idx2, 0], pca_train_x[idx2, 1], 'ro', label='Virginica')\n",
    "\n",
    "plt.xlabel('Feature 1')\n",
    "plt.ylabel('Feature 2')\n",
    "plt.legend(loc='best')\n",
    "\n",
    "plt.tight_layout()\n",
    "```\n",
    "\n",
    "Output:\n",
    "\n",
    "<img src=\"pca.png\" align=\"left\">"
   ],
   "metadata": {
    "collapsed": false
   }
  },
  {
   "cell_type": "code",
   "execution_count": null,
   "outputs": [],
   "source": [
    "pca_train_x, pca_test_x, pca = get_components(train_x, test_x, 2)\n",
    "\n",
    "# Plot data\n",
    "plt.figure()\n",
    "\n",
    "plt.plot(pca_train_x[idx1, 0], pca_train_x[idx1, 1], 'bx', label='Versicolor')\n",
    "plt.plot(pca_train_x[idx2, 0], pca_train_x[idx2, 1], 'ro', label='Virginica')\n",
    "\n",
    "plt.xlabel('Feature 1')\n",
    "plt.ylabel('Feature 2')\n",
    "plt.legend(loc='best')\n",
    "\n",
    "plt.tight_layout()"
   ],
   "metadata": {
    "collapsed": false,
    "pycharm": {
     "name": "#%%\n"
    }
   }
  },
  {
   "cell_type": "code",
   "execution_count": 13,
   "metadata": {
    "ExecuteTime": {
     "end_time": "2020-11-07T14:44:06.784056Z",
     "start_time": "2020-11-07T14:44:06.782120Z"
    },
    "scrolled": false
   },
   "outputs": [],
   "source": [
    "As you may observe, the data now covers the feature space much more evenly, and the correlation between features is much less evident. In the continuation, you will use the gradient derivations from the homework to train a simple logistic regression model to classify the two types of flowers, \"Versicolor\" and \"Virginica\"."
   ]
  },
  {
   "cell_type": "markdown",
   "metadata": {},
   "source": [
    "As an example, you can run the following code on the data from the previous example.\n",
    "\n",
    "```python\n",
    "pca_train_x, pca_test_x, pca = get_components(train_x, test_x, 2)\n",
    "\n",
    "# Plot data\n",
    "plt.figure()\n",
    "\n",
    "plt.plot(pca_train_x[idx1, 0], pca_train_x[idx1, 1], 'bx', label='Versicolor')\n",
    "plt.plot(pca_train_x[idx2, 0], pca_train_x[idx2, 1], 'ro', label='Virginica')\n",
    "\n",
    "plt.xlabel('Feature 1')\n",
    "plt.ylabel('Feature 2')\n",
    "plt.legend(loc='best')\n",
    "\n",
    "plt.tight_layout()\n",
    "```\n",
    "\n",
    "Output:\n",
    "\n",
    "<img src=\"pca.png\" align=\"left\">"
   ]
  },
  {
   "cell_type": "code",
   "execution_count": 14,
   "metadata": {},
   "outputs": [
    {
     "data": {
      "image/png": "[encoded data removed]",
      "text/plain": [
       "<Figure size 432x288 with 1 Axes>"
      ]
     },
     "metadata": {
      "needs_background": "light"
     },
     "output_type": "display_data"
    }
   ],
   "source": [
    "pca_train_x, pca_test_x, pca = get_components(train_x, test_x, 2)\n",
    "\n",
    "# Plot data\n",
    "plt.figure()\n",
    "\n",
    "plt.plot(pca_train_x[idx1, 0], pca_train_x[idx1, 1], 'bx', label='Versicolor')\n",
    "plt.plot(pca_train_x[idx2, 0], pca_train_x[idx2, 1], 'ro', label='Virginica')\n",
    "\n",
    "plt.xlabel('Feature 1')\n",
    "plt.ylabel('Feature 2')\n",
    "plt.legend(loc='best')\n",
    "\n",
    "plt.tight_layout()"
   ]
  },
  {
   "cell_type": "markdown",
   "metadata": {},
   "source": [
    "As you may observe, the data now covers the feature space much more evenly, and the correlation between features is much less evident. In the continuation, you will use the gradient derivations from the homework to train a simple logistic regression model to classify the two types of flowers, \"Versicolor\" and \"Virginica\"."
   ]
  },
  {
   "cell_type": "markdown",
   "metadata": {},
   "source": [
    "---\n",
    "\n",
    "#### Activity 3.\n",
    "\n",
    "Write a function named `my_train_lr` that trains a logistic regression classifier in Python using Newton-Raphson's method. The method is described by the update:\n",
    "\n",
    "$$\\mathbf{w}^{(k+1)}\\leftarrow\\mathbf{w}^{(k)}-\\mathbf{H}^{-1}\\mathbf{g},$$\n",
    "\n",
    "where $\\mathbf{H}$ and $\\mathbf{g}$ are the _Hessian matrix_ and _gradient vector_ that you computed in your homework. To train the classifier, initialize the parameter vector, $\\mathbf{w}$, to zeros; then, run a cycle that repeatedly updates the parameter vector according to the rule above until the difference between two iterations is sufficiently small (e.g., smaller than $10^{-5}$).\n",
    "\n",
    "Your function should receive, as input, two numpy arrays:\n",
    "\n",
    "* A numpy array `train_x`, corresponding to the input training data, after being standardized and principal components have been extracted. Your array should have a shape `(nE, nF)`, where `nE` is the number of examples in the training set, and `nF` is the number of features after PCA.\n",
    "* A numpy array `train_a`, corresponding to the output training data, i.e., the labels corresponding to the examples in `train_x`. The array should have a shape `(nE,)` and all its elements should be either `1` or `-1`.\n",
    "\n",
    "Make sure to add to your input an additional feature corresponding to the bias term, i.e., an all-ones feature. \n",
    "\n",
    "Your function should return a numpy array `w` of shape `(nF + 1, 1)` corresponding to the learned logistic regression parameters. Parameters `w[0:nF, 0]` should correspond to the weights of the features, while `w[nF]` should correspond to the bias term.\n",
    "\n",
    "Your function should work for *any* binary classification dataset.  \n",
    "\n",
    "**Note:** You may find useful to define a function `lr` that takes as inputs a sample `x`, an action `a` and a parameter vector `w` and computes\n",
    "\n",
    "$$\\mathtt{lr}(\\mathbf{x},a,\\mathbf{w})=\\frac{1}{1+\\exp(-a~\\mathbf{w}^\\top\\mathbf{x})}.$$\n",
    "\n",
    "---"
   ]
  },
  {
   "cell_type": "code",
   "execution_count": null,
   "metadata": {
    "ExecuteTime": {
     "end_time": "2020-11-07T14:44:06.799999Z",
     "start_time": "2020-11-07T14:44:06.798264Z"
    },
    "scrolled": false
   },
   "outputs": [],
   "source": [
    "# Add your code here."
   ]
  },
  {
   "cell_type": "markdown",
   "metadata": {},
   "source": [
    "As an example, you can run the following code to plot the decision boundary learned by your function.\n",
    "\n",
    "```python\n",
    "# Train model\n",
    "w = my_train_lr(pca_train_x, train_a)\n",
    "\n",
    "# Print learned parameters\n",
    "print('Learned vector of parameters:')\n",
    "print(w)\n",
    "\n",
    "idx1 = np.where(train_a == -1)[0]\n",
    "idx2 = np.where(train_a == 1)[0]\n",
    "\n",
    "plt.figure()\n",
    "\n",
    "plt.plot(pca_train_x[idx1, 0], pca_train_x[idx1, 1], 'bx', label='Versicolor')\n",
    "plt.plot(pca_train_x[idx2, 0], pca_train_x[idx2, 1], 'ro', label='Virginica')\n",
    "\n",
    "# Plot decision boundary\n",
    "x_ax = np.arange(pca_train_x[:, 0].min(), pca_train_x[:, 0].max(), .01)\n",
    "a_ax = - (w[0, 0] * x_ax + w[2, 0]) / w[1, 0]\n",
    "plt.plot(x_ax, a_ax, 'k--')\n",
    "\n",
    "plt.xlabel('Feature 1')\n",
    "plt.ylabel('Feature 2')\n",
    "plt.axis([pca_train_x[:, 0].min() - 0.1, \n",
    "          pca_train_x[:, 0].max() + 0.1, \n",
    "          pca_train_x[:, 1].min() - 0.1, \n",
    "          pca_train_x[:, 1].max() + 0.1])\n",
    "\n",
    "plt.legend(loc='best')\n",
    "\n",
    "plt.tight_layout()\n",
    "```\n",
    "\n",
    "As output, you should get something like:\n",
    "````\n",
    "Learned vector of parameters:\n",
    "[[ 3.14501957]\n",
    " [ 3.39615668]\n",
    " [-0.13782688]]\n",
    "```\n",
    "\n",
    "<img src=\"lr.png\" align=\"left\">"
   ]
  },
  {
   "cell_type": "markdown",
   "metadata": {},
   "source": [
    "As you can see, the classifier does a fairly good job in separating the two classes. \n",
    "\n",
    "You will now compare the classifier from **Activity 3** with a logistic regression classifier implemented in `sci-kit learn`."
   ]
  },
  {
   "cell_type": "markdown",
   "metadata": {},
   "source": [
    "---\n",
    "\n",
    "#### Activity 4\n",
    "\n",
    "Write a function `skl_train_lr` that trains a logistic regression classifier in Python using Newton-Raphson's method, but now using the implementation in `scikit-learn`. You can import the logistic regression model from `sklearn.linear_model` under the name `LogisticRegression`. \n",
    "\n",
    "Your function should receive, as input:\n",
    "\n",
    "* A numpy array `train_x`, corresponding to the input training data, after being standardized and principal components have been extracted. Your array should have a shape `(nE, nF)`, where `nE` is the number of examples in the training set, and `nF` is the number of features after PCA.\n",
    "* A numpy array `train_y`, corresponding to the output training data, i.e., the labels corresponding to the examples in `train_x`. The array should have a shape `(nE,)` and all its elements should be either `1` or `-1`.\n",
    "* A numerical constant, `C`.\n",
    "\n",
    "Fit the logistic regression model to the provided data using the `newton-cg` solver and a regularization coefficient `C`.\n",
    "\n",
    "Your function should return a numpy array `w` of shape `(nF + 1, 1)` corresponding to the learned logistic regression parameters. Parameters `w[0:nF]` should correspond to the weights of the features, which you can access as the attribute `coef_` of the LR model, after training; `w[nF]` should correspond to the bias term, which you can access as the attribute `intercept_` of the LR model, after training. Your function should work for *any* binary classification dataset.  \n",
    "\n",
    "Compare the parameter vector and decision boundary obtained with those from Activity 3 on the IRIS data.\n",
    "\n",
    "---"
   ]
  },
  {
   "cell_type": "code",
   "execution_count": null,
   "metadata": {
    "ExecuteTime": {
     "end_time": "2020-11-07T14:44:06.813041Z",
     "start_time": "2020-11-07T14:44:06.811322Z"
    },
    "scrolled": false
   },
   "outputs": [],
   "source": [
    "# Add your code here."
   ]
  },
  {
   "cell_type": "markdown",
   "metadata": {},
   "source": [
    "<span style=\"color:blue\"> _Add your comments here._ </span>"
   ]
  },
  {
   "cell_type": "markdown",
   "metadata": {},
   "source": [
    "As an example, you can run the following code to plot the two decision boundaries, from **Activity 3** and **Activity 4**.\n",
    "\n",
    "```python\n",
    "# Train model\n",
    "walt = skl_train_lr(pca_train_x, train_a, 1e40)\n",
    "\n",
    "# Print learned parameters\n",
    "print('Learned vector of parameters (my_train_lr):')\n",
    "print(w)\n",
    "\n",
    "print('Learned vector of parameters (skl_train_lr):')\n",
    "print(walt)\n",
    "\n",
    "plt.figure()\n",
    "\n",
    "plt.plot(pca_train_x[idx1, 0], pca_train_x[idx1, 1], 'bx', label='Versicolor')\n",
    "plt.plot(pca_train_x[idx2, 0], pca_train_x[idx2, 1], 'ro', label='Virginica')\n",
    "\n",
    "# Plot custom decision boundary\n",
    "x_ax = np.arange(pca_train_x[:, 0].min(), pca_train_x[:, 0].max(), .01)\n",
    "a_ax = - (w[0, 0] * x_ax + w[2, 0]) / w[1, 0]\n",
    "plt.plot(x_ax, a_ax, 'k--', label='Custom LR')\n",
    "\n",
    "# Plot Scikit-learn decision boundary\n",
    "a_alt = - (walt[0, 0] * x_ax + walt[2, 0]) / walt[1, 0]\n",
    "plt.plot(x_ax, a_alt, 'g:', label='Scikit-learn LR')\n",
    "\n",
    "plt.xlabel('Feature 1')\n",
    "plt.ylabel('Feature 2')\n",
    "plt.axis([pca_train_x[:, 0].min() - 0.1, \n",
    "          pca_train_x[:, 0].max() + 0.1, \n",
    "          pca_train_x[:, 1].min() - 0.1, \n",
    "          pca_train_x[:, 1].max() + 0.1])\n",
    "\n",
    "plt.legend(loc='best')\n",
    "\n",
    "plt.tight_layout()\n",
    "```\n",
    "\n",
    "As output, you should get something like:\n",
    "```\n",
    "Learned vector of parameters (my_train_lr):\n",
    "[[ 3.14501957]\n",
    " [ 3.39615668]\n",
    " [-0.13782688]]\n",
    "Learned vector of parameters (skl_train_lr):\n",
    "[[ 3.14501955]\n",
    " [ 3.39615666]\n",
    " [-0.13782687]]\n",
    "```\n",
    "\n",
    "<img src=\"comparison.png\" align=\"left\">"
   ]
  },
  {
   "cell_type": "markdown",
   "metadata": {},
   "source": [
    "Although the learned classifiers seem to provide a reasonable classification of the two species of Iris flowers, we are only looking at the training data, so it is possible that the classifiers may actually be overfitting (i.e., they perform rather well on the training data, but would not perform so well in \"real world\" data). \n",
    "\n",
    "In the next activities, you will investigate whether overfitting occurs, by observing how the performance changes when limiting the representation power of the classifier. To do so, you will impose soft restrictions on the parameters that the classifier is allowed to use. You will then observe how the performance changes as you tighten those restrictions. To conduct such study, you first need to compute the performance of your LR classifier."
   ]
  },
  {
   "cell_type": "markdown",
   "metadata": {},
   "source": [
    "---\n",
    "\n",
    "#### Activity 5\n",
    "\n",
    "Write a function `nll` that computes the *negative log likelihood* of an LR classifier for a given dataset. Your function should receive, as input,\n",
    "\n",
    "* A numpy array `x`, corresponding to the inputs where the classifier will be evaluated. The array should have a shape `(nE, nF)`, where `nE` is the number of examples in the set, and `nF` is the number of input features describing each example (bias feature not included).\n",
    "\n",
    "* A numpy array `y`, corresponding to the respective outputs. The array should have a shape `(nE,)` and all its elements should be either `1` or `-1`.\n",
    "\n",
    "* A numpy array `w`, such as those computed in **Activity 3** and **Activity 4**. The array should have a shape `(nF + 1, 1)` and corresponds to the parameters of your LR classifier.\n",
    "\n",
    "Your function should return a numerical value corresponding to the average negative log likelihood of the data according to the classifier with parameters `w`. Recall that the average negative log likelihood of the data is given by\n",
    "\n",
    "$$\\hat{L}_N(\\mathbf{w})=-\\frac{1}{N}\\sum_{n=1}^N\\log\\pi_{\\mathbf{w}}(a_n\\mid x_n)$$,\n",
    "\n",
    "where $\\pi_{\\mathbf{w}}(a\\mid x)$ is the probability of $a\\in\\{-1,1\\}$ given input $x$.\n",
    "\n",
    "**Note:** You main find useful the function `lr` suggested in **Activity 3**.\n",
    "\n",
    "---"
   ]
  },
  {
   "cell_type": "code",
   "execution_count": null,
   "metadata": {
    "ExecuteTime": {
     "end_time": "2020-11-07T14:44:06.833795Z",
     "start_time": "2020-11-07T14:44:06.831174Z"
    },
    "scrolled": false
   },
   "outputs": [],
   "source": [
    "# Add your code here."
   ]
  },
  {
   "cell_type": "markdown",
   "metadata": {},
   "source": [
    "You can now use your function to run the following interaction.\n",
    "\n",
    "```python\n",
    "COEFFS = [1e4,  9e3, 8e3, 7e3, 6e3, 5e3, 4e3, 3e3, 2e3,\n",
    "          1000, 900, 800, 700, 600, 500, 400, 300, 200, \n",
    "          100,  90,  80,  70,  60,  50,  40,  30,  20, \n",
    "          10,   9,   8,   7,   6,   5,   4,   3,   2, \n",
    "          1,    .9,  .8,  .7,  .6,  .5,  .4,  .3,  .2,  \n",
    "          .1,   .09, .08, .07, .06, .05, .04, .03, .02, .01]\n",
    "\n",
    "RUNS = 100\n",
    "\n",
    "# Investigate overfitting\n",
    "err_train = np.zeros((len(COEFFS), 1)) # Error in training set\n",
    "err_valid = np.zeros((len(COEFFS), 1)) # Error in validation set\n",
    "\n",
    "np.random.seed(45)\n",
    "\n",
    "print('Completed: ', end='\\r')\n",
    "\n",
    "for run in range(RUNS):\n",
    "    \n",
    "    # Split training data in \"train\" and \"validation\"\n",
    "    x_train, x_valid, a_train, a_valid = train_test_split(pca_train_x, train_a, test_size=0.15)\n",
    "    \n",
    "    for n in range(len(COEFFS)):\n",
    "        \n",
    "        # Print progress\n",
    "        print('Completed: %i %%' % int((run * len(COEFFS) + n) / (RUNS * len(COEFFS)) * 100), end='\\r')\n",
    "\n",
    "        # Train classifier\n",
    "        w = skl_train_lr(x_train, a_train, COEFFS[n])\n",
    "\n",
    "        # Compute train and test loss\n",
    "        nll_train = nll(x_train, a_train, w)\n",
    "        nll_valid = nll(x_valid, a_valid, w)\n",
    "\n",
    "        err_train[n] += nll_train / RUNS\n",
    "        err_valid[n] += nll_valid / RUNS\n",
    "        \n",
    "print('Completed: 100%')\n",
    "\n",
    "plt.figure()\n",
    "plt.semilogx(COEFFS, err_train, 'k:', linewidth=3, label='Training')\n",
    "plt.semilogx(COEFFS, err_valid, 'k-', linewidth=3, label='Test')\n",
    "plt.xlabel('Regularization parameter')\n",
    "plt.ylabel('Negative log-likelihood')\n",
    "plt.legend(loc = 'best')\n",
    "\n",
    "plt.tight_layout()\n",
    "```\n",
    "\n",
    "and observe the following output:\n",
    "\n",
    "```\n",
    "Completed: 100%\n",
    "```\n",
    "\n",
    "<img src=\"overfitting.png\" align=\"left\">"
   ]
  },
  {
   "cell_type": "markdown",
   "metadata": {},
   "source": [
    "---\n",
    "\n",
    "#### Activity 6.\n",
    "\n",
    "Looking at the results in the example from **Activity 5**, indicate whether you observe overfitting or not, and explain your conclusion. Based on this conclusion, select a value for the parameter `C` that you find is more adequate for the Iris data, and explain your selection. Then, for your selected value of `C`,\n",
    "\n",
    "* Train a logistic regression model using the whole training data, using the function from **Activity 4**.\n",
    "* Compute the negative log likelihood of the resulting classifier both in the training data and the test data.\n",
    "\n",
    "Do the results match what you expected? Explain.\n",
    "\n",
    "---"
   ]
  },
  {
   "cell_type": "code",
   "execution_count": null,
   "metadata": {
    "ExecuteTime": {
     "end_time": "2020-11-07T14:44:06.847893Z",
     "start_time": "2020-11-07T14:44:06.845810Z"
    },
    "scrolled": false
   },
   "outputs": [],
   "source": [
    "# Add your code here."
   ]
  },
  {
   "cell_type": "markdown",
   "metadata": {},
   "source": [
    "<span style=\"color:blue\"> _Add your comments here._ </span>"
   ]
  }
 ],
 "metadata": {
  "celltoolbar": "Raw Cell Format",
  "kernelspec": {
   "display_name": "Python 3",
   "language": "python",
   "name": "python3"
  },
  "language_info": {
   "codemirror_mode": {
    "name": "ipython",
    "version": 3
   },
   "file_extension": ".py",
   "mimetype": "text/x-python",
   "name": "python",
   "nbconvert_exporter": "python",
   "pygments_lexer": "ipython3",
   "version": "3.7.4"
  },
  "latex_envs": {
   "LaTeX_envs_menu_present": true,
   "autoclose": false,
   "autocomplete": true,
   "bibliofile": "biblio.bib",
   "cite_by": "apalike",
   "current_citInitial": 1,
   "eqLabelWithNumbers": true,
   "eqNumInitial": 1,
   "hotkeys": {
    "equation": "Ctrl-E",
    "itemize": "Ctrl-I"
   },
   "labels_anchors": false,
   "latex_user_defs": false,
   "report_style_numbering": false,
   "user_envs_cfg": false
  }
 },
 "nbformat": 4,
 "nbformat_minor": 1
}